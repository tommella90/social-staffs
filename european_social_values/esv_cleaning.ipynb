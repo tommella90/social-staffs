{
 "cells": [
  {
   "cell_type": "code",
   "execution_count": 6,
   "id": "530766e8",
   "metadata": {},
   "outputs": [],
   "source": [
    "import pandas as pd\n",
    "df = pd.read_stata('ZA7503_v3-0-0.dta/ZA7503_v3-0-0.dta', convert_categoricals=False)"
   ]
  },
  {
   "cell_type": "code",
   "execution_count": 14,
   "id": "aa391163",
   "metadata": {},
   "outputs": [],
   "source": [
    "# Define a dictionary that maps country codes to full names\n",
    "country_mapping = {\n",
    "    'AL': 'Albania',\n",
    "    'AZ': 'Azerbaijan',\n",
    "    'AT': 'Austria',\n",
    "    'AM': 'Armenia',\n",
    "    'BE': 'Belgium',\n",
    "    'BA': 'Bosnia and Herzegovina',\n",
    "    'BG': 'Bulgaria',\n",
    "    'BY': 'Belarus',\n",
    "    'CA': 'Canada',\n",
    "    'HR': 'Croatia',\n",
    "    'CY': 'Cyprus',\n",
    "    'CY-TCC': 'Cyprus',\n",
    "    'CZ': 'Czech Republic',\n",
    "    'DK': 'Denmark',\n",
    "    'EE': 'Estonia',\n",
    "    'FI': 'Finland',\n",
    "    'FR': 'France',\n",
    "    'GE': 'Georgia',\n",
    "    'DE': 'Germany',\n",
    "    'GR': 'Greece',\n",
    "    'HU': 'Hungary',\n",
    "    'IS': 'Iceland',\n",
    "    'IE': 'Ireland',\n",
    "    'IT': 'Italy',\n",
    "    'LV': 'Latvia',\n",
    "    'LT': 'Lithuania',\n",
    "    'LU': 'Luxembourg',\n",
    "    'MT': 'Malta',\n",
    "    'MD': 'Moldova',\n",
    "    'ME': 'Montenegro',\n",
    "    'NL': 'Netherlands',\n",
    "    'NO': 'Norway',\n",
    "    'PL': 'Poland',\n",
    "    'PT': 'Portugal',\n",
    "    'RO': 'Romania',\n",
    "    'RU': 'Russia',\n",
    "    'RS': 'Serbia',\n",
    "    'SK': 'Slovakia',\n",
    "    'SI': 'Slovenia',\n",
    "    'ES': 'Spain',\n",
    "    'SE': 'Sweden',\n",
    "    'CH': 'Switzerland',\n",
    "    'TR': 'Turkey',\n",
    "    'UA': 'Ukraine',\n",
    "    'MK': 'North Macedonia',\n",
    "    'GB-GBN': 'United Kingdom',\n",
    "    'US': 'United States',\n",
    "    'GB-NIR': 'Northern Ireland',\n",
    "    'RS-KM': 'Kosovo'\n",
    "}\n",
    "\n",
    "# Map the country codes to full names using the dictionary\n",
    "df['S009'] = df['S009'].map(country_mapping)\n",
    "\n"
   ]
  },
  {
   "cell_type": "code",
   "execution_count": 17,
   "id": "7893293f",
   "metadata": {},
   "outputs": [],
   "source": [
    "df['S009'] = df['S009'].rename('country')"
   ]
  },
  {
   "cell_type": "code",
   "execution_count": 21,
   "id": "e659b7f3",
   "metadata": {},
   "outputs": [],
   "source": [
    "df = df.rename(columns={'S009': 'country'})"
   ]
  },
  {
   "cell_type": "code",
   "execution_count": 23,
   "id": "ed0bbec3",
   "metadata": {},
   "outputs": [
    {
     "data": {
      "text/plain": [
       "0         Albania\n",
       "1         Albania\n",
       "2         Albania\n",
       "3         Albania\n",
       "4         Albania\n",
       "           ...   \n",
       "224429     Kosovo\n",
       "224430     Kosovo\n",
       "224431     Kosovo\n",
       "224432     Kosovo\n",
       "224433     Kosovo\n",
       "Name: country, Length: 224434, dtype: object"
      ]
     },
     "execution_count": 23,
     "metadata": {},
     "output_type": "execute_result"
    }
   ],
   "source": [
    "df.country"
   ]
  },
  {
   "cell_type": "code",
   "execution_count": null,
   "id": "adc89fe4",
   "metadata": {},
   "outputs": [],
   "source": []
  }
 ],
 "metadata": {
  "kernelspec": {
   "display_name": "Python 3 (ipykernel)",
   "language": "python",
   "name": "python3"
  },
  "language_info": {
   "codemirror_mode": {
    "name": "ipython",
    "version": 3
   },
   "file_extension": ".py",
   "mimetype": "text/x-python",
   "name": "python",
   "nbconvert_exporter": "python",
   "pygments_lexer": "ipython3",
   "version": "3.10.9"
  }
 },
 "nbformat": 4,
 "nbformat_minor": 5
}
